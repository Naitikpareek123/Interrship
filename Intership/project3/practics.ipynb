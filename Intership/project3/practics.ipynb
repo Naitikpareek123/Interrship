{
 "cells": [
  {
   "cell_type": "code",
   "execution_count": 3,
   "metadata": {},
   "outputs": [
    {
     "data": {
      "text/plain": [
       "'1.5.2'"
      ]
     },
     "execution_count": 3,
     "metadata": {},
     "output_type": "execute_result"
    }
   ],
   "source": [
    "import pandas as pd\n",
    "pd.__version__"
   ]
  },
  {
   "cell_type": "code",
   "execution_count": null,
   "metadata": {},
   "outputs": [],
   "source": [
    "#  sql replacement  is a  pandas , it is 3 DS series, dataframe, panel"
   ]
  },
  {
   "cell_type": "code",
   "execution_count": 10,
   "metadata": {},
   "outputs": [
    {
     "name": "stdout",
     "output_type": "stream",
     "text": [
      "A     1\n",
      "B     3\n",
      "C     5\n",
      "D     7\n",
      "E    11\n",
      "F    13\n",
      "dtype: int64\n"
     ]
    }
   ],
   "source": [
    "  # series methods\n",
    "li=[1,3,5,7,11,13]\n",
    "li1=['A','B','C','D','E','F']\n",
    "marks=pd.Series(li,li1) #  (data, index) use then we will  use default start\n",
    "print(marks)"
   ]
  },
  {
   "cell_type": "code",
   "execution_count": 24,
   "metadata": {},
   "outputs": [
    {
     "name": "stdout",
     "output_type": "stream",
     "text": [
      "   A  B  C  D\n",
      "a  1  0  1  1\n",
      "b  0  0  1  2\n"
     ]
    }
   ],
   "source": [
    "# dataframe\n",
    "online=[1,0,1,1]\n",
    "offline=[0,0,1,2]\n",
    "li=['A','B','C','D']\n",
    "li1=['a','b']\n",
    "mar=pd.DataFrame([online,offline],li1,li)   #(data,index(row and columns))\n",
    "print(mar)\n"
   ]
  },
  {
   "cell_type": "code",
   "execution_count": null,
   "metadata": {},
   "outputs": [],
   "source": []
  }
 ],
 "metadata": {
  "kernelspec": {
   "display_name": "Python 3",
   "language": "python",
   "name": "python3"
  },
  "language_info": {
   "codemirror_mode": {
    "name": "ipython",
    "version": 3
   },
   "file_extension": ".py",
   "mimetype": "text/x-python",
   "name": "python",
   "nbconvert_exporter": "python",
   "pygments_lexer": "ipython3",
   "version": "3.9.13"
  },
  "orig_nbformat": 4
 },
 "nbformat": 4,
 "nbformat_minor": 2
}
